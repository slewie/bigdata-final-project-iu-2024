{
 "cells": [
  {
   "cell_type": "code",
   "execution_count": 13,
   "id": "b9a7f0e6-c737-49aa-98b3-4bf75d88001f",
   "metadata": {},
   "outputs": [],
   "source": [
    "from pyspark.sql import SparkSession\n",
    "\n",
    "# Add here your team number teamx\n",
    "team = 27\n",
    "\n",
    "# location of your Hive database in HDFS\n",
    "warehouse = \"project/hive/warehouse\"\n",
    "\n",
    "spark = SparkSession.builder\\\n",
    "        .appName(\"{} - spark ML\".format(team))\\\n",
    "        .master(\"yarn\")\\\n",
    "        .config(\"hive.metastore.uris\", \"thrift://hadoop-02.uni.innopolis.ru:9883\")\\\n",
    "        .config(\"spark.sql.warehouse.dir\", warehouse)\\\n",
    "        .config(\"spark.sql.avro.compression.codec\", \"snappy\")\\\n",
    "        .enableHiveSupport()\\\n",
    "        .getOrCreate()"
   ]
  },
  {
   "cell_type": "code",
   "execution_count": 14,
   "id": "d1ec6438-5665-4c4b-a666-45b6aab4a55e",
   "metadata": {},
   "outputs": [
    {
     "name": "stdout",
     "output_type": "stream",
     "text": [
      "+--------------------+\n",
      "|           namespace|\n",
      "+--------------------+\n",
      "|             default|\n",
      "|             root_db|\n",
      "|     team0_projectdb|\n",
      "|team12_hive_proje...|\n",
      "|    team13_projectdb|\n",
      "|    team14_projectdb|\n",
      "|    team15_projectdb|\n",
      "|    team16_projectdb|\n",
      "|    team17_projectdb|\n",
      "|    team18_projectdb|\n",
      "|    team19_projectdb|\n",
      "|     team1_projectdb|\n",
      "|    team20_projectdb|\n",
      "|    team21_projectdb|\n",
      "|    team22_projectdb|\n",
      "|    team23_projectdb|\n",
      "|    team24_projectdb|\n",
      "|    team25_projectdb|\n",
      "|    team26_projectdb|\n",
      "|    team27_projectdb|\n",
      "+--------------------+\n",
      "only showing top 20 rows\n",
      "\n"
     ]
    }
   ],
   "source": [
    "spark.sql(\"SHOW DATABASES\").show()"
   ]
  },
  {
   "cell_type": "code",
   "execution_count": 15,
   "id": "a5bdf6c6-f9c6-42f9-93ec-ab912e21a26f",
   "metadata": {},
   "outputs": [
    {
     "name": "stdout",
     "output_type": "stream",
     "text": [
      "++\n",
      "||\n",
      "++\n",
      "++\n",
      "\n"
     ]
    }
   ],
   "source": [
    "spark.sql(\"USE team27_projectdb\").show()"
   ]
  },
  {
   "cell_type": "code",
   "execution_count": 16,
   "id": "884970f7-aa77-42fb-b80b-69e5ef0344b9",
   "metadata": {},
   "outputs": [
    {
     "name": "stdout",
     "output_type": "stream",
     "text": [
      "+----------------+---------+-----------+\n",
      "|       namespace|tableName|isTemporary|\n",
      "+----------------+---------+-----------+\n",
      "|team27_projectdb|  authors|      false|\n",
      "|team27_projectdb|  reviews|      false|\n",
      "+----------------+---------+-----------+\n",
      "\n"
     ]
    }
   ],
   "source": [
    "spark.sql(\"SHOW TABLES\").show()"
   ]
  },
  {
   "cell_type": "code",
   "execution_count": 20,
   "id": "51e01353-0f35-4505-a848-7aef7daec260",
   "metadata": {},
   "outputs": [
    {
     "name": "stdout",
     "output_type": "stream",
     "text": [
      "+-------+------+--------------+---------+--------+--------------------------------------+-----------------+-----------------+-------------+-----------+-------------------+-------------+--------------+-----------------+---------------------------+-----------------+----------------+-----------------------+------------------+-----------+-----------+\n",
      "|     id|app_id|       appname|review_id|language|                                review|time_date_created|time_date_updated|votes_helpful|votes_funny|weighted_vote_score|comment_count|steam_purchase|received_for_free|written_during_early_access|   author_steamid|playtime_forever|playtime_last_two_weeks|playtime_at_review|last_played|recommended|\n",
      "+-------+------+--------------+---------+--------+--------------------------------------+-----------------+-----------------+-------------+-----------+-------------------+-------------+--------------+-----------------+---------------------------+-----------------+----------------+-----------------------+------------------+-----------+-----------+\n",
      "|4799996|524220|NieR:Automata™| 37798902|schinese|   这次你给我屁股也来不及了！\\n垃圾...|       2017-11-27|       2019-03-03|            1|          0| 0.5136908292770386|            0|         false|            false|                      false|76561198109026604|          1717.0|                    0.0|            1717.0| 2019-06-27|      false|\n",
      "|4799979|524220|NieR:Automata™| 31410590|schinese|       喜欢这个游戏所以400+入了\\n但...|       2017-04-28|       2017-04-28|           62|          2| 0.6419127583503724|            1|          true|            false|                      false|76561198131098666|           520.0|                    0.0|             414.0| 2017-06-03|      false|\n",
      "|4799977|524220|NieR:Automata™| 45037323| koreana|     뭔가 전체적으로 게임이 찐따가 ...|       2018-10-01|       2018-10-01|            5|          3| 0.4318788945674896|            1|          true|            false|                      false|76561198047950413|          2676.0|                    0.0|            2676.0| 2018-09-07|      false|\n",
      "|4799976|524220|NieR:Automata™| 32807870| english|                  A PS2 game. Hones...|       2017-06-26|       2017-06-26|            4|          1| 0.1820171624422073|            8|          true|            false|                      false|76561198207599859|           120.0|                    0.0|             120.0| 2017-06-26|      false|\n",
      "|4799975|524220|NieR:Automata™| 49256010|schinese|请收下这颗包治百病，名为“吃枣”的药丸。|       2019-02-27|       2019-02-27|            2|          0|                0.0|            0|         false|            false|                      false|76561198312775097|          9973.0|                  118.0|            5934.0| 2021-01-08|      false|\n",
      "|4799964|524220|NieR:Automata™| 56780239|schinese| 很明显这是一个半成品游戏。无法容忍...|       2019-11-08|       2019-11-08|            2|          0| 0.5081730484962463|            0|          true|            false|                      false|76561198304463950|          8822.0|                  125.0|            7463.0| 2021-01-10|      false|\n",
      "|4799958|524220|NieR:Automata™| 31405141|schinese|    买了199幸灾乐祸突然发现评论里骂...|       2017-04-28|       2017-04-28|            3|          2| 0.5010504126548767|            0|          true|            false|                      false|76561198100225754|          1263.0|                    0.0|             139.0| 2019-04-30|      false|\n",
      "|4799955|524220|NieR:Automata™| 77046388| english|                  I don't understan...|       2020-10-04|       2020-10-04|            2|          1| 0.5020576119422913|            0|          true|            false|                      false|76561197990357600|          1744.0|                    0.0|             795.0| 2020-11-26|      false|\n",
      "|4799954|524220|NieR:Automata™| 31429560|schinese|   尼尔是一款好游戏。\\n尼尔是一款好...|       2017-04-29|       2017-05-02|            7|          0|                0.0|            0|         false|            false|                      false|76561198097330608|           880.0|                    0.0|             716.0| 2017-08-04|      false|\n",
      "|4799952|524220|NieR:Automata™| 34093871| spanish|                  Luego de unas cua...|       2017-08-08|       2017-08-08|            3|          1| 0.4854943454265594|            0|          true|            false|                      false|76561198010773088|          1743.0|                    0.0|             990.0| 2020-02-08|      false|\n",
      "|4799949|524220|NieR:Automata™| 50150030| english|                  Still waiting for...|       2019-04-15|       2019-04-15|            3|          0|  0.415347546339035|            0|          true|            false|                      false|76561198263567631|          6587.0|                  121.0|            2131.0| 2021-01-10|      false|\n",
      "|4799945|524220|NieR:Automata™| 31462822|schinese|                             eat sh*it|       2017-04-30|       2017-04-30|            3|          0|  0.500629723072052|            0|          true|            false|                      false|76561198176362143|           279.0|                    0.0|             188.0| 2017-05-13|      false|\n",
      "|4799944|524220|NieR:Automata™| 49262014|schinese|      有标准版不能升级?\\n还要再花27...|       2019-02-27|       2019-02-27|            5|          0| 0.5721206665039062|            0|          true|            false|                      false|76561198217249008|           351.0|                    0.0|             273.0| 2019-08-30|      false|\n",
      "|4799935|524220|NieR:Automata™| 35640621| english|                  I'd recommend thi...|       2017-10-11|       2017-10-11|            2|          1| 0.4615258872509002|            0|          true|            false|                      false|76561198038096837|          1840.0|                    0.0|            1840.0| 2017-10-11|      false|\n",
      "|4799933|524220|NieR:Automata™| 64462172| koreana|      이 게임을 제대로 하려면 자체 ...|       2020-03-03|       2020-03-03|            0|          0|                0.0|            0|          true|            false|                      false|76561198152572195|          2581.0|                    0.0|            2394.0| 2020-07-15|      false|\n",
      "|4799931|524220|NieR:Automata™| 49265473| english|                  just don't buy se...|       2019-02-27|       2019-02-27|           17|          2| 0.4207572638988495|            0|          true|            false|                      false|76561198277919710|           498.0|                    0.0|             370.0| 2020-11-30|      false|\n",
      "|4799906|524220|NieR:Automata™| 73440385| koreana|    저와 비슷한 이런류의 사람들하고...|       2020-07-29|       2020-07-29|            1|          0|                0.5|            0|          true|            false|                      false|76561198934469937|           396.0|                    0.0|             396.0| 2020-05-26|      false|\n",
      "|4799903|524220|NieR:Automata™| 40521453| english|                  Fantastic game ju...|       2018-03-02|       2018-03-02|            0|          0|  0.438345342874527|            0|          true|            false|                      false|76561198361334597|           114.0|                    0.0|              19.0| 2019-07-27|      false|\n",
      "|4799899|524220|NieR:Automata™| 76508000| english|                  This game is ridi...|       2020-09-25|       2020-09-25|            8|          3|  0.412208527326584|            0|          true|            false|                      false|76561198841931425|            57.0|                    0.0|              57.0| 2020-09-24|      false|\n",
      "|4799894|524220|NieR:Automata™| 33492240| english|                  Seems like a grea...|       2017-07-13|       2018-06-29|            2|          0| 0.4501637518405914|            0|          true|            false|                      false|76561197981558885|          1655.0|                    0.0|            1564.0| 2018-09-12|      false|\n",
      "+-------+------+--------------+---------+--------+--------------------------------------+-----------------+-----------------+-------------+-----------+-------------------+-------------+--------------+-----------------+---------------------------+-----------------+----------------+-----------------------+------------------+-----------+-----------+\n",
      "only showing top 20 rows\n",
      "\n"
     ]
    }
   ],
   "source": [
    "spark.sql(\"SELECT * FROM team27_projectdb.reviews\").show()"
   ]
  }
 ],
 "metadata": {
  "kernelspec": {
   "display_name": "Pyspark 3",
   "language": "python",
   "name": "python3"
  },
  "language_info": {
   "codemirror_mode": {
    "name": "ipython",
    "version": 3
   },
   "file_extension": ".py",
   "mimetype": "text/x-python",
   "name": "python",
   "nbconvert_exporter": "python",
   "pygments_lexer": "ipython3",
   "version": "3.6.8"
  }
 },
 "nbformat": 4,
 "nbformat_minor": 5
}
